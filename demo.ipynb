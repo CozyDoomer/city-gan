{
 "cells": [
  {
   "cell_type": "code",
   "execution_count": 1,
   "metadata": {},
   "outputs": [],
   "source": [
    "import os.path\n",
    "import numpy as np\n",
    "import torch\n",
    "import torchvision.utils as vutils\n",
    "import neural_network as nn\n",
    "import matplotlib.pyplot as plt\n",
    "\n",
    "plt.rcParams[\"figure.figsize\"] = (20,3)\n",
    "\n",
    "device = torch.device(\"cuda:0\")\n",
    "\n",
    "def make_grid(a, b, steps):\n",
    "    a, b = np.array(a), np.array(b)\n",
    "    if steps > 1:\n",
    "        difference = (b-a)/(steps-1)\n",
    "        full_matrix = np.tile(a[np.newaxis,:], (steps, 1)) + np.tile(difference[np.newaxis,:], (steps, 1))*np.tile(np.arange(steps)[:, np.newaxis], (1, a.shape[0]))\n",
    "    else:\n",
    "        full_matrix = np.tile(a[np.newaxis,:], (steps, 1))\n",
    "    return full_matrix\n",
    "\n",
    "def combine_fixed_noise_with_classes(num_samples, labels_one_hot, nz):\n",
    "    size = labels_one_hot.size()\n",
    "    fixed_noise = torch.randn(num_samples, nz, 1, 1, device=device).repeat(size[0], 1, 1, 1)\n",
    "    labels_one_hot = labels_one_hot.repeat(1,num_samples).view(size[0]*num_samples, size[1])\n",
    "    return torch.cat([fixed_noise, labels_one_hot.unsqueeze(2).unsqueeze(3)], dim=1)\n",
    "\n",
    "def get_networks(hack, cropsize, nclasses, load_path, load_epoch):\n",
    "    netG, netD = nn.get_generator_and_discriminator(\n",
    "        nc_arg=3, nz_arg=100, ngf_arg=64, ndf_arg=64, device_arg=device, hack_arg=hack, crop_size_arg=cropsize, num_classes_arg=nclasses\n",
    "    )\n",
    "    netG.load_state_dict(torch.load(os.path.join(load_path, f'netG_epoch_{load_epoch}.pth'), map_location=device))\n",
    "    netD.load_state_dict(torch.load(os.path.join(load_path, f'netD_epoch_{load_epoch}.pth'), map_location=device))\n",
    "    return netG, netD\n",
    "\n",
    "def show_transition(a, b, steps, numsamples, netG, netD):\n",
    "    netG.eval()\n",
    "    grid = torch.FloatTensor(make_grid(a, b, steps)).to(device)\n",
    "    input_for_generator = combine_fixed_noise_with_classes(numsamples, grid, 100)\n",
    "\n",
    "    samples = netG(input_for_generator)\n",
    "    show(vutils.make_grid(samples, normalize=True, nrow=8))"
   ]
  },
  {
   "cell_type": "code",
   "execution_count": 2,
   "metadata": {},
   "outputs": [],
   "source": [
    "%matplotlib widget\n",
    "def show(img):\n",
    "    npimg = img.cpu().detach().numpy()\n",
    "    plt.imshow(np.transpose(npimg, (1,2,0)), interpolation='nearest')"
   ]
  },
  {
   "cell_type": "markdown",
   "metadata": {},
   "source": [
    "classes {'amsterdam': 0, 'manhattan': 1, 'paris': 2, 'vienna': 3}\n",
    "Classes: {'amsterdam': 0, 'dc': 1, 'florence': 2, 'las_vegas': 3, 'new_york': 4, 'paris': 5}"
   ]
  },
  {
   "cell_type": "code",
   "execution_count": 9,
   "metadata": {},
   "outputs": [],
   "source": [
    "# DanielNet\n",
    "numsamples = 1\n",
    "hack = False\n",
    "cropsize = 128\n",
    "nclasses = 4\n",
    "load_path = '/home/mbachl/repos/dl_visualcomputing2018/assignments/assignment3/runs/Jan24_14-09-59_gpu/'\n",
    "load_epoch = 1900\n",
    "netG, netD = get_networks(hack, cropsize, nclasses, load_path, load_epoch)"
   ]
  },
  {
   "cell_type": "code",
   "execution_count": 27,
   "metadata": {},
   "outputs": [],
   "source": [
    "# MaxNet\n",
    "numsamples = 1\n",
    "hack = True\n",
    "cropsize = 128\n",
    "nclasses = 4\n",
    "load_path = '/home/mbachl/repos/dl_visualcomputing2018/assignments/assignment3/runs/Jan25_17-14-50_gpu/'\n",
    "load_epoch = 2100\n",
    "netG, netD = get_networks(hack, cropsize, nclasses, load_path, load_epoch)"
   ]
  },
  {
   "cell_type": "code",
   "execution_count": 28,
   "metadata": {},
   "outputs": [
    {
     "data": {
      "application/vnd.jupyter.widget-view+json": {
       "model_id": "f1f6b495f7dd4553b07f933756287efe",
       "version_major": 2,
       "version_minor": 0
      },
      "text/plain": [
       "FigureCanvasNbAgg()"
      ]
     },
     "metadata": {},
     "output_type": "display_data"
    }
   ],
   "source": [
    "# 4 classes\n",
    "plt.close()\n",
    "np.random.seed(54)\n",
    "\n",
    "amsterdam = np.array([1., 0, 0, 0])\n",
    "manhattan = np.array([0., 1, 0, 0])\n",
    "paris = np.array([0., 0, 1, 0])\n",
    "vienna = np.array([0., 0, 0, 1])\n",
    "\n",
    "steps = 5\n",
    "show_transition(amsterdam, manhattan, steps, numsamples, netG, netD)"
   ]
  },
  {
   "cell_type": "code",
   "execution_count": 20,
   "metadata": {},
   "outputs": [],
   "source": [
    "# MaxNet Stanford\n",
    "numsamples = 1\n",
    "hack = True\n",
    "cropsize = 128\n",
    "nclasses = 5\n",
    "load_path = '/home/mbachl/repos/dl_visualcomputing2018/assignments/assignment3/runs/Feb04_19-31-33_gpu/'\n",
    "load_epoch = 3100064\n",
    "netG, netD = get_networks(hack, cropsize, nclasses, load_path, load_epoch)"
   ]
  },
  {
   "cell_type": "code",
   "execution_count": 25,
   "metadata": {},
   "outputs": [
    {
     "data": {
      "application/vnd.jupyter.widget-view+json": {
       "model_id": "",
       "version_major": 2,
       "version_minor": 0
      },
      "text/plain": [
       "FigureCanvasNbAgg()"
      ]
     },
     "metadata": {},
     "output_type": "display_data"
    }
   ],
   "source": [
    "# 5 classes\n",
    "plt.close()\n",
    "np.random.seed(54)\n",
    "\n",
    "amsterdam = np.array([1., 0, 0, 0, 0])\n",
    "dc = np.array([0., 1, 0, 0, 0])\n",
    "florence = np.array([0., 0, 1, 0, 0])\n",
    "las_vegas = np.array([0., 0, 0, 1, 0])\n",
    "new_york = np.array([0., 0, 0, 0, 1])\n",
    "\n",
    "steps = 5\n",
    "show_transition(amsterdam, new_york, steps, numsamples, netG, netD)"
   ]
  },
  {
   "cell_type": "code",
   "execution_count": null,
   "metadata": {},
   "outputs": [],
   "source": []
  }
 ],
 "metadata": {
  "kernelspec": {
   "display_name": "Python 3",
   "language": "python",
   "name": "python3"
  },
  "language_info": {
   "codemirror_mode": {
    "name": "ipython",
    "version": 3
   },
   "file_extension": ".py",
   "mimetype": "text/x-python",
   "name": "python",
   "nbconvert_exporter": "python",
   "pygments_lexer": "ipython3",
   "version": "3.7.1"
  }
 },
 "nbformat": 4,
 "nbformat_minor": 2
}
